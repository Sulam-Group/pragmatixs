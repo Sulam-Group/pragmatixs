{
 "cells": [
  {
   "cell_type": "code",
   "execution_count": null,
   "metadata": {},
   "outputs": [],
   "source": [
    "import os\n",
    "import sys\n",
    "import numpy as np\n",
    "import matplotlib.pyplot as plt\n",
    "import seaborn as sns\n",
    "\n",
    "root_dir = \"../\"\n",
    "sys.path.append(root_dir)\n",
    "from configs import get_config\n",
    "\n",
    "config_name = \"cub\"\n",
    "config_dict = {\n",
    "    \"data.explanation_length\": 12,\n",
    "    \"listener.type\": \"topic\",\n",
    "    \"listener.gamma\": 0.4,\n",
    "    \"listener.prior\": 6 * [1 / 6],\n",
    "    \"listener.temperature_scale\": [1.0, 2.0, 4.0, 8.0],\n",
    "    \"speaker.alpha\": [0.0, 0.2],\n",
    "}\n",
    "config = get_config(config_name, config_dict=config_dict)\n",
    "\n",
    "lit_configs, prag_configs = config.sweep([\"speaker.alpha\"])\n",
    "\n",
    "lit_results = [\n",
    "    c.get_results() for c in lit_configs.sweep([\"listener.temperature_scale\"])\n",
    "]\n",
    "prag_results = [\n",
    "    c.get_results() for c in prag_configs.sweep([\"listener.temperature_scale\"])\n",
    "]\n",
    "\n",
    "sns.set_theme()\n",
    "sns.set_context(\"paper\")"
   ]
  },
  {
   "cell_type": "code",
   "execution_count": null,
   "metadata": {},
   "outputs": [],
   "source": [
    "def topic_kl(results):\n",
    "    prior = np.array(config.listener.prior)\n",
    "    explanation_topics = np.array(results[\"explanation_topics\"].values.tolist())\n",
    "\n",
    "    return np.sum(\n",
    "        explanation_topics * np.log((explanation_topics + 1e-08) / (prior + 1e-08)),\n",
    "        axis=-1,\n",
    "    )\n",
    "\n",
    "\n",
    "lit_kl = [topic_kl(r) for r in lit_results]\n",
    "prag_kl = [topic_kl(r) for r in prag_results]\n",
    "\n",
    "mu_lit_kl = np.mean(lit_kl, axis=-1)\n",
    "mu_prag_kl = np.mean(prag_kl, axis=-1)\n",
    "\n",
    "_, ax = plt.subplots(figsize=(16 / 4, 9 / 4))\n",
    "ax.plot(lit_configs.listener.temperature_scale, mu_lit_kl, label=\"Literal\", marker=\"o\")\n",
    "ax.plot(\n",
    "    prag_configs.listener.temperature_scale, mu_prag_kl, label=\"Pragmatic\", marker=\"o\"\n",
    ")\n",
    "ax.set_xlabel(\"Listener temperature scale\")\n",
    "ax.set_ylabel(\"Topic KL divergence\")\n",
    "ax.legend(loc=\"upper left\", bbox_to_anchor=(1, 1))\n",
    "plt.show()"
   ]
  },
  {
   "cell_type": "code",
   "execution_count": null,
   "metadata": {},
   "outputs": [],
   "source": [
    "prag_claim_config_dict = config_dict.copy()\n",
    "prag_claim_config_dict[\"listener.type\"] = \"claim\"\n",
    "prag_claim_config_dict[\"speaker.alpha\"] = 0.20\n",
    "\n",
    "prag_claim_config = get_config(config_name, config_dict=prag_claim_config_dict)\n",
    "prag_claim_results = prag_claim_config.get_results()\n",
    "\n",
    "best_temperature_idx = np.argmin(mu_prag_kl)\n",
    "best_temperature = prag_configs.listener.temperature_scale[best_temperature_idx]\n",
    "print(best_temperature_idx, best_temperature)\n",
    "\n",
    "_lit_results = lit_results[best_temperature_idx]\n",
    "_prag_results = prag_results[best_temperature_idx]\n",
    "for r in [_lit_results, _prag_results]:\n",
    "    r[\"listener_prediction\"] = r[\"action\"].apply(lambda x: np.argmax(x))\n",
    "    r[\"correct\"] = r[\"prediction\"] == r[\"listener_prediction\"]\n",
    "    print(f\"{r['correct'].mean():.2%}\")\n",
    "\n",
    "mask = _lit_results[\"correct\"] & _prag_results[\"correct\"]\n",
    "_lit_kl = lit_kl[best_temperature_idx]\n",
    "_prag_kl = prag_kl[best_temperature_idx]"
   ]
  },
  {
   "cell_type": "code",
   "execution_count": null,
   "metadata": {},
   "outputs": [],
   "source": [
    "explanation_regions = np.array(lit_results[\"explanation_topics\"].values.tolist())\n",
    "prag_explanation_regions = np.array(prag_results[\"explanation_topics\"].values.tolist())\n",
    "\n",
    "region_dist = np.mean(explanation_regions, axis=0)\n",
    "prag_region_dist = np.mean(prag_explanation_regions, axis=0)\n",
    "\n",
    "_, axes = plt.subplots(1, 2, figsize=(16 / 2, 9 / 4))\n",
    "ax = axes[0]\n",
    "ax.bar(range(len(region_dist)), region_dist)\n",
    "ax.set_ylim([0, 0.55])\n",
    "\n",
    "ax = axes[1]\n",
    "ax.bar(range(len(prag_region_dist)), prag_region_dist)\n",
    "ax.set_ylim([0, 0.55])\n",
    "plt.show()"
   ]
  },
  {
   "cell_type": "code",
   "execution_count": null,
   "metadata": {},
   "outputs": [],
   "source": []
  },
  {
   "cell_type": "code",
   "execution_count": null,
   "metadata": {},
   "outputs": [],
   "source": [
    "ax = axes[0]\n",
    "ax.bar(range(len(region_dist)), region_dist)\n",
    "\n",
    "ax = axes[1]\n",
    "ax.bar(range(len(prag_region_dist)), prag_region_dist)\n",
    "plt.show()"
   ]
  },
  {
   "cell_type": "code",
   "execution_count": null,
   "metadata": {},
   "outputs": [],
   "source": []
  }
 ],
 "metadata": {
  "kernelspec": {
   "display_name": "cuda118",
   "language": "python",
   "name": "python3"
  },
  "language_info": {
   "codemirror_mode": {
    "name": "ipython",
    "version": 3
   },
   "file_extension": ".py",
   "mimetype": "text/x-python",
   "name": "python",
   "nbconvert_exporter": "python",
   "pygments_lexer": "ipython3",
   "version": "3.10.14"
  }
 },
 "nbformat": 4,
 "nbformat_minor": 2
}
