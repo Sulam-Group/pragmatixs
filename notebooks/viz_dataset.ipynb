{
 "cells": [
  {
   "cell_type": "code",
   "execution_count": null,
   "id": "6bbe7c22",
   "metadata": {},
   "outputs": [],
   "source": [
    "import os\n",
    "import sys\n",
    "import numpy as np\n",
    "import matplotlib.pyplot as plt\n",
    "import seaborn as sns\n",
    "import torchvision.transforms as T\n",
    "from torch.utils.data import DataLoader\n",
    "from torchvision.utils import make_grid\n",
    "\n",
    "root_dir = \"../\"\n",
    "sys.path.append(root_dir)\n",
    "from configs import get_config\n",
    "from datasets import get_dataset\n",
    "\n",
    "config_name = \"chexpert\"\n",
    "config = get_config(config_name)\n",
    "\n",
    "transform = T.Compose([T.Resize(224), T.CenterCrop((224, 224)), T.ToTensor()])\n",
    "dataset = get_dataset(config, transform=transform, train=True, return_attribute=True)\n",
    "print(f\"Dataset size: {len(dataset):,}\")\n",
    "print(f\"Dataset classes ({len(dataset.classes)}): {dataset.classes}\")\n",
    "print(f\"Dataset claims ({len(dataset.claims):,}): {dataset.claims}\")\n",
    "\n",
    "images_per_class = {label: 0 for label, _ in enumerate(dataset.classes)}\n",
    "for _, label in dataset.samples:\n",
    "    images_per_class[label] += 1\n",
    "print(f\"Image per class:\")\n",
    "for label, count in images_per_class.items():\n",
    "    print(f\"\\t{dataset.classes[label]}: {count:,}\")\n",
    "\n",
    "sns.set_theme()\n",
    "sns.set_context(\"paper\")"
   ]
  },
  {
   "cell_type": "code",
   "execution_count": null,
   "id": "9b8688c2",
   "metadata": {},
   "outputs": [],
   "source": [
    "m = 24\n",
    "dataloader = DataLoader(dataset, batch_size=m, shuffle=True)\n",
    "data = next(iter(dataloader))\n",
    "image, _, image_attribute = data\n",
    "\n",
    "_, ax = plt.subplots(figsize=(16, 9 / 2))\n",
    "grid = make_grid(image, nrow=8)\n",
    "ax.imshow(grid.permute(1, 2, 0))\n",
    "ax.axis(\"off\")\n",
    "plt.show()"
   ]
  },
  {
   "cell_type": "code",
   "execution_count": null,
   "id": "137db5c0",
   "metadata": {},
   "outputs": [],
   "source": [
    "claims = dataset.claims\n",
    "for _image_attribute in image_attribute:\n",
    "    _positive_attribute = [\n",
    "        claims[i] for i, label in enumerate(_image_attribute) if label == 1\n",
    "    ]\n",
    "    print(len(_positive_attribute) / len(claims), _positive_attribute)"
   ]
  },
  {
   "cell_type": "code",
   "execution_count": null,
   "id": "12a8b39d",
   "metadata": {},
   "outputs": [],
   "source": []
  }
 ],
 "metadata": {
  "kernelspec": {
   "display_name": "cuda118",
   "language": "python",
   "name": "python3"
  },
  "language_info": {
   "codemirror_mode": {
    "name": "ipython",
    "version": 3
   },
   "file_extension": ".py",
   "mimetype": "text/x-python",
   "name": "python",
   "nbconvert_exporter": "python",
   "pygments_lexer": "ipython3",
   "version": "3.10.14"
  }
 },
 "nbformat": 4,
 "nbformat_minor": 5
}
