{
 "cells": [
  {
   "cell_type": "code",
   "execution_count": null,
   "metadata": {},
   "outputs": [],
   "source": [
    "import os\n",
    "import sys\n",
    "import numpy as np\n",
    "import matplotlib.pyplot as plt\n",
    "import seaborn as sns\n",
    "\n",
    "root_dir = \"../\"\n",
    "sys.path.append(root_dir)\n",
    "import configs\n",
    "import datasets\n",
    "\n",
    "config_name = \"ham\"\n",
    "config = configs.get_config(config_name)\n",
    "dataset = datasets.get_dataset(config, train=False, return_attribute=True)\n",
    "classes = dataset.classes\n",
    "\n",
    "sns.set_theme()\n",
    "sns.set_context(\"paper\")"
   ]
  },
  {
   "cell_type": "code",
   "execution_count": null,
   "metadata": {},
   "outputs": [],
   "source": [
    "m = 12\n",
    "idx = np.random.choice(len(dataset), m, replace=False)\n",
    "\n",
    "for _idx in idx:\n",
    "    image, label, attribute = dataset[_idx]\n",
    "\n",
    "    for attribute_type, attribute_label in [(\"positive\", 1), (\"negative\", 0)]:\n",
    "        attribute_idx = np.where(attribute == attribute_label)[0]\n",
    "        print(f\"Example {attribute_type} attributes:\")\n",
    "        for _attribute_idx in attribute_idx[:10]:\n",
    "            print(f\"\\t{dataset.claims[_attribute_idx]}\")\n",
    "\n",
    "    _, ax = plt.subplots(figsize=(3, 3))\n",
    "    ax.imshow(image)\n",
    "    ax.axis(\"off\")\n",
    "    ax.set_title(f\"Class: {classes[label]}\")\n",
    "    plt.show()"
   ]
  },
  {
   "cell_type": "code",
   "execution_count": null,
   "metadata": {},
   "outputs": [],
   "source": []
  }
 ],
 "metadata": {
  "kernelspec": {
   "display_name": "cuda118",
   "language": "python",
   "name": "python3"
  },
  "language_info": {
   "codemirror_mode": {
    "name": "ipython",
    "version": 3
   },
   "file_extension": ".py",
   "mimetype": "text/x-python",
   "name": "python",
   "nbconvert_exporter": "python",
   "pygments_lexer": "ipython3",
   "version": "3.10.14"
  }
 },
 "nbformat": 4,
 "nbformat_minor": 2
}
