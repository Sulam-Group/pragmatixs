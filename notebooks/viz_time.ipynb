{
 "cells": [
  {
   "cell_type": "code",
   "execution_count": null,
   "id": "a5dd5bbd",
   "metadata": {},
   "outputs": [],
   "source": [
    "import os\n",
    "import pandas as pd\n",
    "\n",
    "root_dir = \"../\"\n",
    "\n",
    "config_name = \"cub\"\n",
    "results_dir = os.path.join(root_dir, \"results\", config_name)\n",
    "sweeps_dir = os.path.join(results_dir, \"sweeps\")"
   ]
  },
  {
   "cell_type": "code",
   "execution_count": null,
   "id": "619c5b52",
   "metadata": {},
   "outputs": [],
   "source": [
    "literal_path = os.path.join(sweeps_dir, \"sweep_all_literal.csv\")\n",
    "pragmatic_path = os.path.join(sweeps_dir, \"sweep_all_pragmatic.csv\")\n",
    "\n",
    "literal_df = pd.read_csv(literal_path)\n",
    "pragmatic_df = pd.read_csv(pragmatic_path)\n",
    "df = pd.concat([literal_df, pragmatic_df], axis=0)\n",
    "\n",
    "min_length_time_df = df.groupby([\"data.explanation_length\"])[\"Runtime\"].min()\n",
    "max_length_time_df = df.groupby([\"data.explanation_length\"])[\"Runtime\"].max()\n",
    "\n",
    "min_length_time_hours = min_length_time_df / 3600\n",
    "max_length_time_hours = max_length_time_df / 3600\n",
    "print(\"Minimum Wall Time (hours):\")\n",
    "print(min_length_time_hours)\n",
    "print(\"Maximum Wall Time (hours):\")\n",
    "print(max_length_time_hours)"
   ]
  },
  {
   "cell_type": "code",
   "execution_count": null,
   "id": "4fcd266a",
   "metadata": {},
   "outputs": [],
   "source": []
  }
 ],
 "metadata": {
  "kernelspec": {
   "display_name": "cuda118",
   "language": "python",
   "name": "python3"
  },
  "language_info": {
   "codemirror_mode": {
    "name": "ipython",
    "version": 3
   },
   "file_extension": ".py",
   "mimetype": "text/x-python",
   "name": "python",
   "nbconvert_exporter": "python",
   "pygments_lexer": "ipython3",
   "version": "3.10.14"
  }
 },
 "nbformat": 4,
 "nbformat_minor": 5
}
