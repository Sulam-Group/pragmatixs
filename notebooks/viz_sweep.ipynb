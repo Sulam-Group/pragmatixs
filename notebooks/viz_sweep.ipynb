{
 "cells": [
  {
   "cell_type": "code",
   "execution_count": 1,
   "metadata": {},
   "outputs": [],
   "source": [
    "import os\n",
    "import numpy as np\n",
    "import pandas as pd\n",
    "import matplotlib.pyplot as plt\n",
    "plt.rcParams['svg.fonttype'] = 'none'    \n",
    "import seaborn as sns\n",
    "\n",
    "root_dir = \"../\"\n",
    "sweep_dir = os.path.join(root_dir, \"sweeps\")\n",
    "results_dir = os.path.join(root_dir, \"results\")\n",
    "\n",
    "df = pd.read_csv(os.path.join(sweep_dir, \"sweep_chexpert.csv\"))\n",
    "df[\"speaker\"] = df[\"alpha\"].apply(\n",
    "    lambda x: r\"Pragmatic ($\\alpha=0.20$)\" if x == 0.20 else r\"Literal ($\\alpha=0.00$)\"\n",
    ")\n",
    "\n",
    "# vip_max_queries = 30\n",
    "# vip_df = pd.read_pickle(\n",
    "#     os.path.join(results_dir, f\"cub_vip_query{vip_max_queries}_sbiased.pkl\")\n",
    "# )\n",
    "# prediction = np.array(vip_df[\"prediction\"].values.tolist())\n",
    "# vip_logits = np.array(vip_df[\"logits\"].values.tolist())\n",
    "\n",
    "# lengths = np.unique(df[\"explanation_length\"].values)\n",
    "# vip_prediction = np.argmax(vip_logits, axis=-1)\n",
    "# vip_prediction = vip_prediction[:, lengths - 1]\n",
    "# vip_accuracy = np.mean(vip_prediction == prediction[:, None], axis=0)\n",
    "\n",
    "sns.set_theme()\n",
    "sns.set_context(\"paper\")"
   ]
  },
  {
   "cell_type": "code",
   "execution_count": null,
   "metadata": {},
   "outputs": [],
   "source": [
    "figure_dir = os.path.join(root_dir, \"figures\", \"sweeps\")\n",
    "os.makedirs(figure_dir, exist_ok=True)\n",
    "\n",
    "_, axes = plt.subplots(1, 2, figsize=(16 / 2, 9 / 4))\n",
    "ax = axes[0]\n",
    "sns.lineplot(\n",
    "    data=df,\n",
    "    x=\"explanation_length\",\n",
    "    y=\"val/explanation accuracy\",\n",
    "    hue=\"speaker\",\n",
    "    style=\"gamma\",\n",
    "    marker=\"o\",\n",
    "    ax=ax,\n",
    ")\n",
    "ax.set_xlabel(\"Explanation length\")\n",
    "ax.set_ylabel(\"Explanation accuracy\")\n",
    "ax.get_legend().remove()\n",
    "\n",
    "ax = axes[1]\n",
    "sns.lineplot(\n",
    "    data=df,\n",
    "    x=\"explanation_length\",\n",
    "    y=\"val/listener accuracy\",\n",
    "    hue=\"speaker\",\n",
    "    style=\"gamma\",\n",
    "    marker=\"o\",\n",
    "    errorbar=None,\n",
    "    ax=ax,\n",
    ")\n",
    "# ax.plot(lengths, vip_accuracy, linestyle=\"--\", label=f\"VIP ({vip_max_queries} queries)\")\n",
    "ax.set_xlabel(\"Explanation length\")\n",
    "ax.set_ylabel(\"Listener accuracy\")\n",
    "ax.legend(loc=\"upper left\", bbox_to_anchor=(1, 1))\n",
    "plt.savefig(os.path.join(figure_dir, \"sweep_chexpert.svg\"), bbox_inches=\"tight\")\n",
    "# plt.savefig(os.path.join(figure_dir, \"sweep_chexpert.png\"), bbox_inches=\"tight\")\n",
    "plt.show()"
   ]
  },
  {
   "cell_type": "code",
   "execution_count": null,
   "metadata": {},
   "outputs": [],
   "source": []
  }
 ],
 "metadata": {
  "kernelspec": {
   "display_name": ".venv",
   "language": "python",
   "name": "python3"
  },
  "language_info": {
   "codemirror_mode": {
    "name": "ipython",
    "version": 3
   },
   "file_extension": ".py",
   "mimetype": "text/x-python",
   "name": "python",
   "nbconvert_exporter": "python",
   "pygments_lexer": "ipython3",
   "version": "3.12.9"
  }
 },
 "nbformat": 4,
 "nbformat_minor": 2
}
