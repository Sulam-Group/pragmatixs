{
 "cells": [
  {
   "cell_type": "code",
   "execution_count": null,
   "metadata": {},
   "outputs": [],
   "source": [
    "import os\n",
    "import sys\n",
    "import pandas as pd\n",
    "import numpy as np\n",
    "from sklearn.metrics import confusion_matrix\n",
    "\n",
    "root_dir = \"../\"\n",
    "sys.path.append(root_dir)\n",
    "from datasets import CUB\n",
    "\n",
    "data_dir = os.path.join(root_dir, \"data\")\n",
    "results_dir = os.path.join(root_dir, \"results\")\n",
    "\n",
    "dataset = CUB(root=data_dir)\n",
    "classes = dataset.classes\n",
    "\n",
    "backbone = \"ViT-L/14\"\n",
    "backbone_safe = backbone.lower().replace(\"/\", \"_\")\n",
    "\n",
    "results_path = os.path.join(results_dir, f\"CUB_{backbone_safe}.csv\")\n",
    "results = pd.read_csv(results_path)"
   ]
  },
  {
   "cell_type": "code",
   "execution_count": null,
   "metadata": {},
   "outputs": [],
   "source": [
    "confusion = confusion_matrix(results[\"label\"], results[\"prediction\"], normalize=\"true\")\n",
    "accuracy = np.diag(confusion)\n",
    "\n",
    "sorted_idx = np.argsort(accuracy)[::-1]\n",
    "sorted_classes = [classes[idx] for idx in sorted_idx]\n",
    "sorted_accuracy = accuracy[sorted_idx]\n",
    "\n",
    "m = 20\n",
    "print(\"Results:\")\n",
    "for class_name, acc in zip(sorted_classes[:m], sorted_accuracy[:m]):\n",
    "    print(f\"\\t {class_name}: {acc:.2%}\")"
   ]
  },
  {
   "cell_type": "code",
   "execution_count": null,
   "metadata": {},
   "outputs": [],
   "source": []
  }
 ],
 "metadata": {
  "kernelspec": {
   "display_name": "cuda118",
   "language": "python",
   "name": "python3"
  },
  "language_info": {
   "codemirror_mode": {
    "name": "ipython",
    "version": 3
   },
   "file_extension": ".py",
   "mimetype": "text/x-python",
   "name": "python",
   "nbconvert_exporter": "python",
   "pygments_lexer": "ipython3",
   "version": "3.10.14"
  }
 },
 "nbformat": 4,
 "nbformat_minor": 2
}
