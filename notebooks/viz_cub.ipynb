{
 "cells": [
  {
   "cell_type": "code",
   "execution_count": null,
   "metadata": {},
   "outputs": [],
   "source": [
    "import os\n",
    "import sys\n",
    "import matplotlib.pyplot as plt\n",
    "import numpy as np\n",
    "from torchvision import transforms\n",
    "\n",
    "transform = transforms.Compose(\n",
    "    [transforms.Resize(224, max_size=None, antialias=True), transforms.CenterCrop(224)]\n",
    ")\n",
    "\n",
    "root_dir = \"../\"\n",
    "sys.path.append(root_dir)\n",
    "from datasets import CUB\n",
    "\n",
    "data_dir = os.path.join(root_dir, \"data\")\n",
    "\n",
    "dataset = CUB(root=data_dir, train=True, transform=transform, return_attribute=True)"
   ]
  },
  {
   "cell_type": "code",
   "execution_count": null,
   "metadata": {},
   "outputs": [],
   "source": [
    "m = 4\n",
    "idx = np.random.choice(len(dataset), m, replace=False)\n",
    "\n",
    "for _idx in idx:\n",
    "    image, _, attribute = dataset[_idx]\n",
    "\n",
    "    positive_attribute_idx = np.where(attribute == 1)[0]\n",
    "    negative_attribute_idx = np.where(attribute == 0)[0]\n",
    "\n",
    "    for attribute_type, attribute_idx in zip(\n",
    "        [\"positive\", \"negative\"], [positive_attribute_idx, negative_attribute_idx]\n",
    "    ):\n",
    "        print(f\"Example {attribute_type} attributes:\")\n",
    "        for idx in attribute_idx[:10]:\n",
    "            print(f\"\\t{dataset.claims[idx]}\")\n",
    "\n",
    "    _, ax = plt.subplots(figsize=(3, 3))\n",
    "    ax.imshow(image)\n",
    "    ax.axis(\"off\")\n",
    "    plt.show()"
   ]
  },
  {
   "cell_type": "code",
   "execution_count": null,
   "metadata": {},
   "outputs": [],
   "source": []
  }
 ],
 "metadata": {
  "kernelspec": {
   "display_name": "cuda118",
   "language": "python",
   "name": "python3"
  },
  "language_info": {
   "codemirror_mode": {
    "name": "ipython",
    "version": 3
   },
   "file_extension": ".py",
   "mimetype": "text/x-python",
   "name": "python",
   "nbconvert_exporter": "python",
   "pygments_lexer": "ipython3",
   "version": "3.10.14"
  }
 },
 "nbformat": 4,
 "nbformat_minor": 2
}
