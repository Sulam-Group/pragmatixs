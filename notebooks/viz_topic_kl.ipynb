{
 "cells": [
  {
   "cell_type": "code",
   "execution_count": null,
   "metadata": {},
   "outputs": [],
   "source": [
    "import os\n",
    "import pandas as pd\n",
    "import numpy as np\n",
    "import torch\n",
    "import matplotlib.pyplot as plt\n",
    "import seaborn as sns\n",
    "\n",
    "root_dir = \"../\"\n",
    "results_dir = os.path.join(root_dir, \"results\")\n",
    "data_dir = os.path.join(root_dir, \"data\")\n",
    "attribute_dir = os.path.join(data_dir, \"CUB\", \"attributes\")\n",
    "\n",
    "with open(os.path.join(attribute_dir, \"topics.txt\"), \"r\") as f:\n",
    "    lines = f.readlines()\n",
    "    lines = [line.strip().split() for line in lines]\n",
    "    topics = [topic.replace(\"_\", \" \") for _, topic in lines]\n",
    "\n",
    "with open(os.path.join(attribute_dir, \"attribute_topic.txt\"), \"r\") as f:\n",
    "    lines = f.readlines()\n",
    "    lines = [line.strip().split() for line in lines]\n",
    "    attribute_topic = {attribute: int(topic) for attribute, topic in lines}\n",
    "\n",
    "sns.set_theme()\n",
    "sns.set_context(\"paper\")"
   ]
  },
  {
   "cell_type": "code",
   "execution_count": null,
   "metadata": {},
   "outputs": [],
   "source": [
    "prior = np.array(len(topics) * [1 / len(topics)])\n",
    "\n",
    "run_name = \"cub_claim_10_0.0_0.4_8\"\n",
    "df = pd.read_parquet(os.path.join(results_dir, f\"{run_name}.parquet\"))\n",
    "\n",
    "explanation_topic = np.array(df[\"explanation_topics\"].values.tolist()).astype(int)\n",
    "topic_mask = np.arange(len(topics)) + 1\n",
    "explanation_topic_mask = explanation_topic[..., None] == topic_mask\n",
    "explanation_topic_distribution = np.sum(explanation_topic_mask, axis=-2).astype(float)\n",
    "explanation_topic_distribution /= np.sum(\n",
    "    explanation_topic_distribution, axis=-1, keepdims=True\n",
    ")\n",
    "topic_kl = np.sum(\n",
    "    prior * np.log(prior / (explanation_topic_distribution + 1e-08)), axis=-1\n",
    ")\n",
    "# temperature = torch.tensor(1 / ( topic_kl + 1))\n",
    "temperature = torch.tensor(1 / np.log(topic_kl + np.e))\n",
    "print(min(topic_kl), max(topic_kl))\n",
    "\n",
    "listener_action = torch.from_numpy(np.array(df[\"listener_action\"].values.tolist()))\n",
    "\n",
    "pre_temperature_logit = torch.softmax(listener_action, dim=-1)\n",
    "pre_temperature_logit = torch.amax(pre_temperature_logit, dim=-1)\n",
    "\n",
    "post_temperature_logit = torch.softmax(temperature[:, None] * listener_action, dim=-1)\n",
    "post_temperature_logit = torch.amax(post_temperature_logit, dim=-1)\n",
    "\n",
    "_, axes = plt.subplots(1, 2, figsize=(16 / 2, 9 / 4), gridspec_kw={\"wspace\": 0.25})\n",
    "ax = axes[0]\n",
    "sns.histplot(topic_kl, ax=ax)\n",
    "ax.set_xlabel(\"Topic KL divergence\")\n",
    "\n",
    "ax = axes[1]\n",
    "ax.plot([1e-01, 1], [1e-01, 1], color=\"black\", linestyle=\"--\")\n",
    "sns.scatterplot(x=pre_temperature_logit, y=post_temperature_logit, hue=topic_kl, ax=ax)\n",
    "ax.set_xlabel(\"Pre-temperature logit\")\n",
    "ax.set_ylabel(\"Post-temperature logit\")\n",
    "# ax.set_xscale(\"log\")\n",
    "# ax.set_yscale(\"log\")\n",
    "plt.show()"
   ]
  },
  {
   "cell_type": "code",
   "execution_count": null,
   "metadata": {},
   "outputs": [],
   "source": []
  }
 ],
 "metadata": {
  "kernelspec": {
   "display_name": "cuda118",
   "language": "python",
   "name": "python3"
  },
  "language_info": {
   "codemirror_mode": {
    "name": "ipython",
    "version": 3
   },
   "file_extension": ".py",
   "mimetype": "text/x-python",
   "name": "python",
   "nbconvert_exporter": "python",
   "pygments_lexer": "ipython3",
   "version": "3.10.14"
  }
 },
 "nbformat": 4,
 "nbformat_minor": 2
}
