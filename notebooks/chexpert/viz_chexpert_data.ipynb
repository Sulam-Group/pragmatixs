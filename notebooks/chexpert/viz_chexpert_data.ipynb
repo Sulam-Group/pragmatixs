{
 "cells": [
  {
   "cell_type": "code",
   "execution_count": null,
   "id": "97fb59f6",
   "metadata": {},
   "outputs": [],
   "source": [
    "import pandas as pd\n",
    "meta = pd.read_csv('../data/chexpert/val.csv')\n",
    "meta.head()"
   ]
  },
  {
   "cell_type": "code",
   "execution_count": null,
   "id": "573d3266",
   "metadata": {},
   "outputs": [],
   "source": [
    "ratio1 = (meta.loc[meta['Lung Opacity'] == 1, ['Lung Lesion','Edema','Consolidation','Pneumonia','Atelectasis']].values.sum(axis=1)>0).sum()/meta.loc[meta['Lung Opacity'] == 1].shape[0]\n",
    "ratio2 = (meta.loc[meta['Lung Opacity'] == 0, ['Lung Lesion','Edema','Consolidation','Pneumonia','Atelectasis']].values.sum(axis=1)==0).sum()/ meta.loc[meta['Lung Opacity'] == 0].shape[0]\n",
    "print(ratio1, ratio2)"
   ]
  },
  {
   "cell_type": "code",
   "execution_count": null,
   "id": "70382d7d",
   "metadata": {},
   "outputs": [],
   "source": [
    "# correlation matrix\n",
    "import seaborn as sns\n",
    "import matplotlib.pyplot as plt\n",
    "import numpy as np\n",
    "import matplotlib\n",
    "\n",
    "sns.set(style=\"white\")\n",
    "attributes = [\n",
    "                'Enlarged Cardiomediastinum',\n",
    "                'Cardiomegaly',\n",
    "                'Lung Lesion',\n",
    "                'Edema',\n",
    "                'Consolidation',\n",
    "                'Pneumonia',\n",
    "                'Atelectasis',\n",
    "                'Pneumothorax',\n",
    "                'Pleural Effusion',\n",
    "                'Pleural Other',\n",
    "                'Fracture',\n",
    "                'Support Devices',\n",
    "                'Lung Opacity',\n",
    "]\n",
    "correlation = train_meta[attributes].corr()\n",
    "fig, ax = plt.subplots(figsize=(12, 10))\n",
    "cmap = sns.diverging_palette(220, 20, as_cmap=True)\n",
    "sns.heatmap(correlation, annot=True, fmt='.2f', cmap='coolwarm', center=0)"
   ]
  }
 ],
 "metadata": {
  "kernelspec": {
   "display_name": ".venv",
   "language": "python",
   "name": "python3"
  },
  "language_info": {
   "codemirror_mode": {
    "name": "ipython",
    "version": 3
   },
   "file_extension": ".py",
   "mimetype": "text/x-python",
   "name": "python",
   "nbconvert_exporter": "python",
   "pygments_lexer": "ipython3",
   "version": "3.12.9"
  }
 },
 "nbformat": 4,
 "nbformat_minor": 5
}
